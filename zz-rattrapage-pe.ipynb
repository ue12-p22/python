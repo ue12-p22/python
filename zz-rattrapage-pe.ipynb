{
 "cells": [
  {
   "cell_type": "markdown",
   "metadata": {
    "id": "Q_rqa1jwKd5v"
   },
   "source": [
    "# Python pandas Practice Problems\n",
    "\n",
    "Welcome to datascience@berkeley's collection of Python pandas practice problems.\n",
    "\n",
    "A few notes to get you started:\n",
    "\n",
    "* The space provided for code is not a line limit or hint. Add and use as many lines of code or additional cells as necessary.\n",
    "* Lines preceded with '#' are comments and provide additional explanation but will not affect written code or execution.\n"
   ]
  },
  {
   "cell_type": "code",
   "execution_count": null,
   "metadata": {
    "colab": {
     "base_uri": "https://localhost:8080/"
    },
    "id": "_DgRNdroKTwF",
    "outputId": "9353a4df-bdc7-4d8b-961a-204b54781f3f"
   },
   "outputs": [
    {
     "name": "stderr",
     "output_type": "stream",
     "text": [
      "/usr/local/lib/python3.7/dist-packages/statsmodels/tools/_testing.py:19: FutureWarning: pandas.util.testing is deprecated. Use the functions in the public API at pandas.testing instead.\n",
      "  import pandas.util.testing as tm\n"
     ]
    }
   ],
   "source": [
    "# Import statements go here\n",
    "\n",
    "import pandas as pd\n",
    "import statsmodels.api as sm"
   ]
  },
  {
   "cell_type": "markdown",
   "metadata": {
    "id": "525Moc9hEfFr"
   },
   "source": [
    "## Importing Data and Making a DataFrame\n",
    "The statsmodels package (installed in the code cell above) includes built-in datasets. Execute the code below to download data from the [American National Election Studies of 1996](https://www.statsmodels.org/dev/datasets/generated/anes96.html) and print a detailed description of the schema.\n",
    "\n",
    "The next cell extracts the `Dataset` object from the submodule and saves the `DataFrame` to the variable `df`. In the questions that follow, use `df` when referencing the dataset."
   ]
  },
  {
   "cell_type": "code",
   "execution_count": null,
   "metadata": {
    "colab": {
     "base_uri": "https://localhost:8080/"
    },
    "id": "d-bGIc2VNqvW",
    "outputId": "7ce9a578-adfa-4500-a9f6-4d222dcc4918"
   },
   "outputs": [
    {
     "name": "stdout",
     "output_type": "stream",
     "text": [
      "::\n",
      "\n",
      "    Number of observations - 944\n",
      "    Number of variables - 10\n",
      "\n",
      "    Variables name definitions::\n",
      "\n",
      "            popul - Census place population in 1000s\n",
      "            TVnews - Number of times per week that respondent watches TV news.\n",
      "            PID - Party identification of respondent.\n",
      "                0 - Strong Democrat\n",
      "                1 - Weak Democrat\n",
      "                2 - Independent-Democrat\n",
      "                3 - Independent-Indpendent\n",
      "                4 - Independent-Republican\n",
      "                5 - Weak Republican\n",
      "                6 - Strong Republican\n",
      "            age : Age of respondent.\n",
      "            educ - Education level of respondent\n",
      "                1 - 1-8 grades\n",
      "                2 - Some high school\n",
      "                3 - High school graduate\n",
      "                4 - Some college\n",
      "                5 - College degree\n",
      "                6 - Master's degree\n",
      "                7 - PhD\n",
      "            income - Income of household\n",
      "                1  - None or less than $2,999\n",
      "                2  - $3,000-$4,999\n",
      "                3  - $5,000-$6,999\n",
      "                4  - $7,000-$8,999\n",
      "                5  - $9,000-$9,999\n",
      "                6  - $10,000-$10,999\n",
      "                7  - $11,000-$11,999\n",
      "                8  - $12,000-$12,999\n",
      "                9  - $13,000-$13,999\n",
      "                10 - $14,000-$14.999\n",
      "                11 - $15,000-$16,999\n",
      "                12 - $17,000-$19,999\n",
      "                13 - $20,000-$21,999\n",
      "                14 - $22,000-$24,999\n",
      "                15 - $25,000-$29,999\n",
      "                16 - $30,000-$34,999\n",
      "                17 - $35,000-$39,999\n",
      "                18 - $40,000-$44,999\n",
      "                19 - $45,000-$49,999\n",
      "                20 - $50,000-$59,999\n",
      "                21 - $60,000-$74,999\n",
      "                22 - $75,000-89,999\n",
      "                23 - $90,000-$104,999\n",
      "                24 - $105,000 and over\n",
      "            vote - Expected vote\n",
      "                0 - Clinton\n",
      "                1 - Dole\n",
      "            The following 3 variables all take the values:\n",
      "                1 - Extremely liberal\n",
      "                2 - Liberal\n",
      "                3 - Slightly liberal\n",
      "                4 - Moderate\n",
      "                5 - Slightly conservative\n",
      "                6 - Conservative\n",
      "                7 - Extremely Conservative\n",
      "            selfLR - Respondent's self-reported political leanings from \"Left\"\n",
      "                to \"Right\".\n",
      "            ClinLR - Respondents impression of Bill Clinton's political\n",
      "                leanings from \"Left\" to \"Right\".\n",
      "            DoleLR  - Respondents impression of Bob Dole's political leanings\n",
      "                from \"Left\" to \"Right\".\n",
      "            logpopul - log(popul + .1)\n",
      "\n"
     ]
    }
   ],
   "source": [
    "anes96 = sm.datasets.anes96\n",
    "print(anes96.NOTE)"
   ]
  },
  {
   "cell_type": "code",
   "execution_count": null,
   "metadata": {
    "id": "0aVym7SVK-IU"
   },
   "outputs": [],
   "source": [
    "dataset_anes96 = anes96.load_pandas()\n",
    "df = dataset_anes96.data"
   ]
  },
  {
   "cell_type": "markdown",
   "metadata": {
    "id": "kBHruDwCK1mH"
   },
   "source": [
    "## 1. DataFrame Basic Properties Exercise\n",
    "\n",
    "Our DataFrame (`df`) contains data on registered voters in the United States, including demographic information and political preference. Using `pandas`, print the first 5 rows of the DataFrame to get a sense of what the data looks like. Next, answer the following questions:\n",
    "\n",
    "\n",
    "*   How many observations are in the DataFrame?\n",
    "*   How many variables are measured (how many columns)?\n",
    "*   What is the age of the youngest person in the data? The oldest?\n",
    "*   How many days a week does the average respondent watch TV news (round to the nearest tenth)?\n",
    "*   Check for missing values. Are there any?\n",
    "\n",
    "\n",
    "\n",
    "\n"
   ]
  },
  {
   "cell_type": "code",
   "execution_count": null,
   "metadata": {
    "id": "kh7hT9QyEsxl"
   },
   "outputs": [],
   "source": [
    "# Your code here\n"
   ]
  },
  {
   "cell_type": "markdown",
   "metadata": {
    "id": "RMerTMKXLA9f"
   },
   "source": [
    "## 2. Data Processing Exercise\n",
    "\n",
    "We want to adjust the dataset for our use. Do the following:\n",
    "\n",
    "\n",
    "*   Rename the `educ` column `education`.\n",
    "*   Create a new column called `party` based on each respondent's answer to `PID`. `party` should equal `Democrat` if the respondent selected either Strong Democrat or Weak Democrat. `party` will equal `Republican` if the respondent selected Strong or Weak Republican for `PID` and `Independent` if they selected anything else.\n",
    "*   Create a new column called `age_group` that buckets respondents into the following categories based on their `age`: 18-24, 25-34, 35-44, 45-54, 55-64, and 65 and over.\n",
    "\n"
   ]
  },
  {
   "cell_type": "code",
   "execution_count": null,
   "metadata": {
    "id": "QaxRXEVULDGn"
   },
   "outputs": [],
   "source": [
    "# Your code here\n",
    "\n"
   ]
  },
  {
   "cell_type": "markdown",
   "metadata": {
    "id": "FaisnScALWND"
   },
   "source": [
    "## 3. Filtering Data Exercise\n",
    "\n",
    "Use the filtering method to find all the respondents who have the impression that Bill Clinton is moderate or conservative (`ClinLR` equals 4 or higher). How many respondents are in this subset?\n",
    "\n",
    "Among these respondents, how many have a household income less than $50,000 and attended at least some college?"
   ]
  },
  {
   "cell_type": "code",
   "execution_count": null,
   "metadata": {
    "id": "eX5t91r1BJ3k"
   },
   "outputs": [],
   "source": [
    "# Your code here"
   ]
  },
  {
   "cell_type": "markdown",
   "metadata": {
    "id": "g5GzVjqdLe82"
   },
   "source": [
    "## 4. Calculating From Data Exercise\n",
    "\n",
    "For each of the below match-ups, choose the group that is more likely to vote for Bill Clinton. You can calculate this using the percentage of each group that intends to vote for Clinton (`vote`). Which match-up was the closest? Which had the biggest difference?\n",
    "\n",
    "Another way to think about this: Given that a respondent is a Democrat, there is a ____ percent chance they will vote for Clinton. How does this value change if the respondent is a Republican?\n",
    "\n",
    "*   Democrats or Republicans\n",
    "*   People younger than 44 or People 44 and older\n",
    "*   People who watch TV news at least 6 days a week or People who watch TV news less than 3 days a week\n",
    "*   People who live somewhere with a population greater than the average respondent or People who live in a place with a population equal to or less than the average respondent\n"
   ]
  },
  {
   "cell_type": "code",
   "execution_count": null,
   "metadata": {
    "id": "68hj5Vs6Lhz5"
   },
   "outputs": [],
   "source": [
    "# Your code here"
   ]
  },
  {
   "cell_type": "markdown",
   "metadata": {
    "id": "Q68i6UUQLZrT"
   },
   "source": [
    "## 5. Grouping Data Exercise\n",
    "\n",
    "Use the `groupby()` method to bucket respondents by `age_group`. Which age group is the most conservative? Which watches TV news the least?\n",
    "\n",
    "Next, calculate 5 percentile groups based on income. Group the dataset by these percentiles. Which income bracket is the most liberal? Which is the most conservative? The oldest? Highest educated?"
   ]
  },
  {
   "cell_type": "code",
   "execution_count": null,
   "metadata": {
    "id": "eNrBrx6-LcBn"
   },
   "outputs": [],
   "source": [
    "# Your code here"
   ]
  },
  {
   "cell_type": "markdown",
   "metadata": {
    "id": "_ySpfyk-LSUS"
   },
   "source": [
    "## 6. Voting Across the Aisle\n",
    "\n",
    "We are interested in learning more about respondents who's political views differ strongly from the candidate they expect to vote for. Using `selfLR`, `vote`, `ClinLR`, and `DoleLR`, work through the following questions. Your interpretation may differ from the answer key.\n",
    "\n",
    "*   What is the largest recorded difference between a respondent's political leaning and their impression of their intended candidate's political leaning?\n",
    "*   How many respondents exhibit a difference of that magnitude?\n",
    "*   Make a separate DataFrame called `sway` that only includes voters who exhibit a difference greater than |3|.\n",
    "*   Among those in `sway`, are respondents more likely to be voting for a candidate more conservative or more liberal than their own political leaning?\n",
    "*   In `sway`, which candidate is the more popular choice?\n",
    "\n"
   ]
  },
  {
   "cell_type": "code",
   "execution_count": null,
   "metadata": {
    "id": "pIFQCKBcLX9z"
   },
   "outputs": [],
   "source": [
    "# Your code here"
   ]
  },
  {
   "cell_type": "markdown",
   "metadata": {
    "id": "HRJKA3UDLr-z"
   },
   "source": [
    "# BSD 3-Clause License\n",
    "\n",
    "*Copyright (c) 2022, UC Berkeley School of Information*\n",
    "\n",
    "*All rights reserved.*\n",
    "\n",
    "*Redistribution and use in source and binary forms, with or without modification, are permitted provided that the following conditions are met:*\n",
    "\n",
    "*1. Redistributions of source code must retain the above copyright notice, this list of conditions and the following disclaimer.*\n",
    "\n",
    "*2. Redistributions in binary form must reproduce the above copyright notice, this list of conditions and the following disclaimer in the documentation and/or other materials provided with the distribution.*\n",
    "\n",
    "*3. Neither the name of the copyright holder nor the names of its contributors may be used to endorse or promote products derived from this software without specific prior written permission.*\n",
    "\n",
    "*THIS SOFTWARE IS PROVIDED BY THE COPYRIGHT HOLDERS AND CONTRIBUTORS \"AS IS\" AND ANY EXPRESS OR IMPLIED WARRANTIES, INCLUDING, BUT NOT LIMITED TO, THE IMPLIED WARRANTIES OF MERCHANTABILITY AND FITNESS FOR A PARTICULAR PURPOSE ARE DISCLAIMED. IN NO EVENT SHALL THE COPYRIGHT HOLDER OR CONTRIBUTORS BE LIABLE FOR ANY DIRECT, INDIRECT, INCIDENTAL, SPECIAL, EXEMPLARY, OR CONSEQUENTIAL DAMAGES (INCLUDING, BUT NOT LIMITED TO, PROCUREMENT OF SUBSTITUTE GOODS OR SERVICES; LOSS OF USE, DATA, OR PROFITS; OR BUSINESS INTERRUPTION) HOWEVER CAUSED AND ON ANY THEORY OF LIABILITY, WHETHER IN CONTRACT, STRICT LIABILITY, OR TORT (INCLUDING NEGLIGENCE OR OTHERWISE) ARISING IN ANY WAY OUT OF THE USE OF THIS SOFTWARE, EVEN IF ADVISED OF THE POSSIBILITY OF SUCH DAMAGE.*"
   ]
  }
 ],
 "metadata": {
  "colab": {
   "provenance": []
  },
  "kernelspec": {
   "display_name": "Python 3 (ipykernel)",
   "language": "python",
   "name": "python3"
  },
  "language_info": {
   "codemirror_mode": {
    "name": "ipython",
    "version": 3
   },
   "file_extension": ".py",
   "mimetype": "text/x-python",
   "name": "python",
   "nbconvert_exporter": "python",
   "pygments_lexer": "ipython3",
   "version": "3.11.4"
  }
 },
 "nbformat": 4,
 "nbformat_minor": 4
}
