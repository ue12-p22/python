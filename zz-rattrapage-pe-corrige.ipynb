{
 "cells": [
  {
   "cell_type": "markdown",
   "metadata": {
    "id": "Q_rqa1jwKd5v"
   },
   "source": [
    "# Python pandas Practice Problems\n",
    "\n",
    "Welcome to datascience@berkeley's collection of Python pandas practice problems.\n",
    "\n",
    "To use this notebook, go to `File` --> `Save a copy in Drive` in the menu bar above to create a copy of this notebook on your computer. A new tab will open with the copy and you will be the owner. Your version will not be visible to anyone else.\n",
    "\n",
    "A few notes to get you started:\n",
    "\n",
    "* The space provided for code is not a line limit or hint. Add and use as many lines of code or additional cells as necessary.\n",
    "* Lines preceded with '#' are comments and provide additional explanation but will not affect written code or execution.\n",
    "* Solutions can be found in the complementary [Python pandas Practice Problems for Beginners - Solutions notebook](https://colab.research.google.com/drive/1f8PTrhgJR093fBth5Ka23KCWTIGbgPds?usp=sharing).\n",
    "* Additional resources for the concepts used in each problem can be found at [the blog post here](https://ischoolonline.berkeley.edu/blog/python-pandas-practice-problems/)."
   ]
  },
  {
   "cell_type": "code",
   "execution_count": 4,
   "metadata": {
    "id": "_DgRNdroKTwF"
   },
   "outputs": [],
   "source": [
    "# Import statements go here\n",
    "\n",
    "import pandas as pd\n",
    "import statsmodels.api as sm"
   ]
  },
  {
   "cell_type": "markdown",
   "metadata": {
    "id": "525Moc9hEfFr"
   },
   "source": [
    "## Importing Data and Making a DataFrame\n",
    "The statsmodels package (installed in the code cell above) includes built-in datasets. Execute the code below to download data from the [American National Election Studies of 1996](https://www.statsmodels.org/dev/datasets/generated/anes96.html) and print a detailed description of the schema.\n",
    "\n",
    "The next cell extracts the `Dataset` object from the submodule and saves the `DataFrame` to the variable `df`. In the questions that follow, use `df` when referencing the dataset."
   ]
  },
  {
   "cell_type": "code",
   "execution_count": 5,
   "metadata": {
    "colab": {
     "base_uri": "https://localhost:8080/"
    },
    "id": "d-bGIc2VNqvW",
    "outputId": "9c833d1d-c4a9-46f0-e01b-d5e3e9174e44"
   },
   "outputs": [
    {
     "name": "stdout",
     "output_type": "stream",
     "text": [
      "::\n",
      "\n",
      "    Number of observations - 944\n",
      "    Number of variables - 10\n",
      "\n",
      "    Variables name definitions::\n",
      "\n",
      "            popul - Census place population in 1000s\n",
      "            TVnews - Number of times per week that respondent watches TV news.\n",
      "            PID - Party identification of respondent.\n",
      "                0 - Strong Democrat\n",
      "                1 - Weak Democrat\n",
      "                2 - Independent-Democrat\n",
      "                3 - Independent-Indpendent\n",
      "                4 - Independent-Republican\n",
      "                5 - Weak Republican\n",
      "                6 - Strong Republican\n",
      "            age : Age of respondent.\n",
      "            educ - Education level of respondent\n",
      "                1 - 1-8 grades\n",
      "                2 - Some high school\n",
      "                3 - High school graduate\n",
      "                4 - Some college\n",
      "                5 - College degree\n",
      "                6 - Master's degree\n",
      "                7 - PhD\n",
      "            income - Income of household\n",
      "                1  - None or less than $2,999\n",
      "                2  - $3,000-$4,999\n",
      "                3  - $5,000-$6,999\n",
      "                4  - $7,000-$8,999\n",
      "                5  - $9,000-$9,999\n",
      "                6  - $10,000-$10,999\n",
      "                7  - $11,000-$11,999\n",
      "                8  - $12,000-$12,999\n",
      "                9  - $13,000-$13,999\n",
      "                10 - $14,000-$14.999\n",
      "                11 - $15,000-$16,999\n",
      "                12 - $17,000-$19,999\n",
      "                13 - $20,000-$21,999\n",
      "                14 - $22,000-$24,999\n",
      "                15 - $25,000-$29,999\n",
      "                16 - $30,000-$34,999\n",
      "                17 - $35,000-$39,999\n",
      "                18 - $40,000-$44,999\n",
      "                19 - $45,000-$49,999\n",
      "                20 - $50,000-$59,999\n",
      "                21 - $60,000-$74,999\n",
      "                22 - $75,000-89,999\n",
      "                23 - $90,000-$104,999\n",
      "                24 - $105,000 and over\n",
      "            vote - Expected vote\n",
      "                0 - Clinton\n",
      "                1 - Dole\n",
      "            The following 3 variables all take the values:\n",
      "                1 - Extremely liberal\n",
      "                2 - Liberal\n",
      "                3 - Slightly liberal\n",
      "                4 - Moderate\n",
      "                5 - Slightly conservative\n",
      "                6 - Conservative\n",
      "                7 - Extremely Conservative\n",
      "            selfLR - Respondent's self-reported political leanings from \"Left\"\n",
      "                to \"Right\".\n",
      "            ClinLR - Respondents impression of Bill Clinton's political\n",
      "                leanings from \"Left\" to \"Right\".\n",
      "            DoleLR  - Respondents impression of Bob Dole's political leanings\n",
      "                from \"Left\" to \"Right\".\n",
      "            logpopul - log(popul + .1)\n",
      "\n"
     ]
    }
   ],
   "source": [
    "anes96 = sm.datasets.anes96\n",
    "print(anes96.NOTE)"
   ]
  },
  {
   "cell_type": "code",
   "execution_count": 6,
   "metadata": {
    "id": "0aVym7SVK-IU"
   },
   "outputs": [],
   "source": [
    "dataset_anes96 = anes96.load_pandas()\n",
    "df = dataset_anes96.data"
   ]
  },
  {
   "cell_type": "markdown",
   "metadata": {
    "id": "kBHruDwCK1mH"
   },
   "source": [
    "## 1. DataFrame Basic Properties Exercise\n",
    "\n",
    "Our DataFrame (`df`) contains data on registered voters in the United States, including demographic information and political preference. Using `pandas`, print the first 5 rows of the DataFrame to get a sense of what the data looks like. Next, answer the following questions:\n",
    "\n",
    "\n",
    "*   How many observations are in the DataFrame?\n",
    "*   How many variables are measured (how many columns)?\n",
    "*   What is the age of the youngest person in the data? The oldest?\n",
    "*   How many days a week does the average respondent watch TV news (round to the nearest tenth)?\n",
    "*   Check for missing values. Are there any?\n",
    "\n",
    "\n",
    "\n",
    "\n"
   ]
  },
  {
   "cell_type": "code",
   "execution_count": 7,
   "metadata": {
    "colab": {
     "base_uri": "https://localhost:8080/",
     "height": 206
    },
    "id": "kh7hT9QyEsxl",
    "outputId": "b1992c70-dce4-4a96-f622-1f64e9e71372"
   },
   "outputs": [
    {
     "data": {
      "text/html": [
       "<div>\n",
       "<style scoped>\n",
       "    .dataframe tbody tr th:only-of-type {\n",
       "        vertical-align: middle;\n",
       "    }\n",
       "\n",
       "    .dataframe tbody tr th {\n",
       "        vertical-align: top;\n",
       "    }\n",
       "\n",
       "    .dataframe thead th {\n",
       "        text-align: right;\n",
       "    }\n",
       "</style>\n",
       "<table border=\"1\" class=\"dataframe\">\n",
       "  <thead>\n",
       "    <tr style=\"text-align: right;\">\n",
       "      <th></th>\n",
       "      <th>popul</th>\n",
       "      <th>TVnews</th>\n",
       "      <th>selfLR</th>\n",
       "      <th>ClinLR</th>\n",
       "      <th>DoleLR</th>\n",
       "      <th>PID</th>\n",
       "      <th>age</th>\n",
       "      <th>educ</th>\n",
       "      <th>income</th>\n",
       "      <th>vote</th>\n",
       "      <th>logpopul</th>\n",
       "    </tr>\n",
       "  </thead>\n",
       "  <tbody>\n",
       "    <tr>\n",
       "      <th>0</th>\n",
       "      <td>0.0</td>\n",
       "      <td>7.0</td>\n",
       "      <td>7.0</td>\n",
       "      <td>1.0</td>\n",
       "      <td>6.0</td>\n",
       "      <td>6.0</td>\n",
       "      <td>36.0</td>\n",
       "      <td>3.0</td>\n",
       "      <td>1.0</td>\n",
       "      <td>1.0</td>\n",
       "      <td>-2.302585</td>\n",
       "    </tr>\n",
       "    <tr>\n",
       "      <th>1</th>\n",
       "      <td>190.0</td>\n",
       "      <td>1.0</td>\n",
       "      <td>3.0</td>\n",
       "      <td>3.0</td>\n",
       "      <td>5.0</td>\n",
       "      <td>1.0</td>\n",
       "      <td>20.0</td>\n",
       "      <td>4.0</td>\n",
       "      <td>1.0</td>\n",
       "      <td>0.0</td>\n",
       "      <td>5.247550</td>\n",
       "    </tr>\n",
       "    <tr>\n",
       "      <th>2</th>\n",
       "      <td>31.0</td>\n",
       "      <td>7.0</td>\n",
       "      <td>2.0</td>\n",
       "      <td>2.0</td>\n",
       "      <td>6.0</td>\n",
       "      <td>1.0</td>\n",
       "      <td>24.0</td>\n",
       "      <td>6.0</td>\n",
       "      <td>1.0</td>\n",
       "      <td>0.0</td>\n",
       "      <td>3.437208</td>\n",
       "    </tr>\n",
       "    <tr>\n",
       "      <th>3</th>\n",
       "      <td>83.0</td>\n",
       "      <td>4.0</td>\n",
       "      <td>3.0</td>\n",
       "      <td>4.0</td>\n",
       "      <td>5.0</td>\n",
       "      <td>1.0</td>\n",
       "      <td>28.0</td>\n",
       "      <td>6.0</td>\n",
       "      <td>1.0</td>\n",
       "      <td>0.0</td>\n",
       "      <td>4.420045</td>\n",
       "    </tr>\n",
       "    <tr>\n",
       "      <th>4</th>\n",
       "      <td>640.0</td>\n",
       "      <td>7.0</td>\n",
       "      <td>5.0</td>\n",
       "      <td>6.0</td>\n",
       "      <td>4.0</td>\n",
       "      <td>0.0</td>\n",
       "      <td>68.0</td>\n",
       "      <td>6.0</td>\n",
       "      <td>1.0</td>\n",
       "      <td>0.0</td>\n",
       "      <td>6.461624</td>\n",
       "    </tr>\n",
       "  </tbody>\n",
       "</table>\n",
       "</div>"
      ],
      "text/plain": [
       "   popul  TVnews  selfLR  ClinLR  DoleLR  PID   age  educ  income  vote  \\\n",
       "0    0.0     7.0     7.0     1.0     6.0  6.0  36.0   3.0     1.0   1.0   \n",
       "1  190.0     1.0     3.0     3.0     5.0  1.0  20.0   4.0     1.0   0.0   \n",
       "2   31.0     7.0     2.0     2.0     6.0  1.0  24.0   6.0     1.0   0.0   \n",
       "3   83.0     4.0     3.0     4.0     5.0  1.0  28.0   6.0     1.0   0.0   \n",
       "4  640.0     7.0     5.0     6.0     4.0  0.0  68.0   6.0     1.0   0.0   \n",
       "\n",
       "   logpopul  \n",
       "0 -2.302585  \n",
       "1  5.247550  \n",
       "2  3.437208  \n",
       "3  4.420045  \n",
       "4  6.461624  "
      ]
     },
     "execution_count": 7,
     "metadata": {},
     "output_type": "execute_result"
    }
   ],
   "source": [
    "# Your code here\n",
    "df.head()\n"
   ]
  },
  {
   "cell_type": "code",
   "execution_count": 9,
   "metadata": {
    "colab": {
     "base_uri": "https://localhost:8080/"
    },
    "id": "cpMKW14Yzwe6",
    "outputId": "ed94a266-86ff-486f-aeb3-570f784a0e39"
   },
   "outputs": [
    {
     "name": "stdout",
     "output_type": "stream",
     "text": [
      "944\n",
      "11\n",
      "min    19.0\n",
      "max    91.0\n",
      "Name: age, dtype: float64\n"
     ]
    }
   ],
   "source": [
    "print(len(df))\n",
    "print(len(df.columns))\n",
    "print(df.age.describe()[['min', 'max']])"
   ]
  },
  {
   "cell_type": "code",
   "execution_count": 13,
   "metadata": {},
   "outputs": [
    {
     "data": {
      "text/plain": [
       "'3.7'"
      ]
     },
     "execution_count": 13,
     "metadata": {},
     "output_type": "execute_result"
    }
   ],
   "source": [
    "f\"{df.TVnews.mean():.1f}\"\n"
   ]
  },
  {
   "cell_type": "code",
   "execution_count": 18,
   "metadata": {},
   "outputs": [
    {
     "data": {
      "text/plain": [
       "popul       0\n",
       "TVnews      0\n",
       "selfLR      0\n",
       "ClinLR      0\n",
       "DoleLR      0\n",
       "PID         0\n",
       "age         0\n",
       "educ        0\n",
       "income      0\n",
       "vote        0\n",
       "logpopul    0\n",
       "dtype: int64"
      ]
     },
     "execution_count": 18,
     "metadata": {},
     "output_type": "execute_result"
    }
   ],
   "source": [
    "df.isna().sum()"
   ]
  },
  {
   "cell_type": "markdown",
   "metadata": {
    "id": "RMerTMKXLA9f"
   },
   "source": [
    "## 2. Data Processing Exercise\n",
    "\n",
    "We want to adjust the dataset for our use. Do the following:\n",
    "\n",
    "\n",
    "*   Rename the `educ` column `education`.\n",
    "*   Create a new column called `party` based on each respondent's answer to `PID`. `party` should equal `Democrat` if the respondent selected either Strong Democrat or Weak Democrat. `party` will equal `Republican` if the respondent selected Strong or Weak Republican for `PID` and `Independent` if they selected anything else.\n",
    "*   Create a new column called `age_group` that buckets respondents into the following categories based on their `age`: 18-24, 25-34, 35-44, 45-54, 55-64, and 65 and over.\n",
    "\n"
   ]
  },
  {
   "cell_type": "code",
   "execution_count": 14,
   "metadata": {
    "id": "QaxRXEVULDGn"
   },
   "outputs": [],
   "source": [
    "# Your code here\n",
    "df2 = (df.rename(columns=dict(educ=\"education\")))"
   ]
  },
  {
   "cell_type": "code",
   "execution_count": 15,
   "metadata": {
    "colab": {
     "base_uri": "https://localhost:8080/"
    },
    "id": "C6uGHjEWzZ5n",
    "outputId": "3c70b810-98bf-4d52-e1f4-026a89e2f359"
   },
   "outputs": [
    {
     "name": "stderr",
     "output_type": "stream",
     "text": [
      "<ipython-input-15-55936923581e>:3: SettingWithCopyWarning: \n",
      "A value is trying to be set on a copy of a slice from a DataFrame\n",
      "\n",
      "See the caveats in the documentation: https://pandas.pydata.org/pandas-docs/stable/user_guide/indexing.html#returning-a-view-versus-a-copy\n",
      "  s[df2.PID <= 1] = 'Democrat'\n",
      "<ipython-input-15-55936923581e>:4: SettingWithCopyWarning: \n",
      "A value is trying to be set on a copy of a slice from a DataFrame\n",
      "\n",
      "See the caveats in the documentation: https://pandas.pydata.org/pandas-docs/stable/user_guide/indexing.html#returning-a-view-versus-a-copy\n",
      "  s[df2.PID >= 5] = 'Republican'\n"
     ]
    }
   ],
   "source": [
    "df2['party'] = 'Independant'\n",
    "s = df2.party\n",
    "s[df2.PID <= 1] = 'Democrat'\n",
    "s[df2.PID >= 5] = 'Republican'\n"
   ]
  },
  {
   "cell_type": "code",
   "execution_count": 20,
   "metadata": {
    "colab": {
     "base_uri": "https://localhost:8080/",
     "height": 206
    },
    "id": "KX5zCo_nzbYs",
    "outputId": "8accd088-836e-463e-bc07-87a5d840f639"
   },
   "outputs": [
    {
     "data": {
      "text/html": [
       "\n",
       "  <div id=\"df-dc63665a-b6da-4552-9371-072603b57d35\">\n",
       "    <div class=\"colab-df-container\">\n",
       "      <div>\n",
       "<style scoped>\n",
       "    .dataframe tbody tr th:only-of-type {\n",
       "        vertical-align: middle;\n",
       "    }\n",
       "\n",
       "    .dataframe tbody tr th {\n",
       "        vertical-align: top;\n",
       "    }\n",
       "\n",
       "    .dataframe thead th {\n",
       "        text-align: right;\n",
       "    }\n",
       "</style>\n",
       "<table border=\"1\" class=\"dataframe\">\n",
       "  <thead>\n",
       "    <tr style=\"text-align: right;\">\n",
       "      <th></th>\n",
       "      <th>popul</th>\n",
       "      <th>TVnews</th>\n",
       "      <th>selfLR</th>\n",
       "      <th>ClinLR</th>\n",
       "      <th>DoleLR</th>\n",
       "      <th>PID</th>\n",
       "      <th>age</th>\n",
       "      <th>education</th>\n",
       "      <th>income</th>\n",
       "      <th>vote</th>\n",
       "      <th>logpopul</th>\n",
       "      <th>party</th>\n",
       "      <th>age_group</th>\n",
       "    </tr>\n",
       "  </thead>\n",
       "  <tbody>\n",
       "    <tr>\n",
       "      <th>0</th>\n",
       "      <td>0.0</td>\n",
       "      <td>7.0</td>\n",
       "      <td>7.0</td>\n",
       "      <td>1.0</td>\n",
       "      <td>6.0</td>\n",
       "      <td>6.0</td>\n",
       "      <td>36.0</td>\n",
       "      <td>3.0</td>\n",
       "      <td>1.0</td>\n",
       "      <td>1.0</td>\n",
       "      <td>-2.302585</td>\n",
       "      <td>Republican</td>\n",
       "      <td>(34, 44]</td>\n",
       "    </tr>\n",
       "    <tr>\n",
       "      <th>1</th>\n",
       "      <td>190.0</td>\n",
       "      <td>1.0</td>\n",
       "      <td>3.0</td>\n",
       "      <td>3.0</td>\n",
       "      <td>5.0</td>\n",
       "      <td>1.0</td>\n",
       "      <td>20.0</td>\n",
       "      <td>4.0</td>\n",
       "      <td>1.0</td>\n",
       "      <td>0.0</td>\n",
       "      <td>5.247550</td>\n",
       "      <td>Democrat</td>\n",
       "      <td>(0, 24]</td>\n",
       "    </tr>\n",
       "    <tr>\n",
       "      <th>2</th>\n",
       "      <td>31.0</td>\n",
       "      <td>7.0</td>\n",
       "      <td>2.0</td>\n",
       "      <td>2.0</td>\n",
       "      <td>6.0</td>\n",
       "      <td>1.0</td>\n",
       "      <td>24.0</td>\n",
       "      <td>6.0</td>\n",
       "      <td>1.0</td>\n",
       "      <td>0.0</td>\n",
       "      <td>3.437208</td>\n",
       "      <td>Democrat</td>\n",
       "      <td>(0, 24]</td>\n",
       "    </tr>\n",
       "    <tr>\n",
       "      <th>3</th>\n",
       "      <td>83.0</td>\n",
       "      <td>4.0</td>\n",
       "      <td>3.0</td>\n",
       "      <td>4.0</td>\n",
       "      <td>5.0</td>\n",
       "      <td>1.0</td>\n",
       "      <td>28.0</td>\n",
       "      <td>6.0</td>\n",
       "      <td>1.0</td>\n",
       "      <td>0.0</td>\n",
       "      <td>4.420045</td>\n",
       "      <td>Democrat</td>\n",
       "      <td>(24, 34]</td>\n",
       "    </tr>\n",
       "    <tr>\n",
       "      <th>4</th>\n",
       "      <td>640.0</td>\n",
       "      <td>7.0</td>\n",
       "      <td>5.0</td>\n",
       "      <td>6.0</td>\n",
       "      <td>4.0</td>\n",
       "      <td>0.0</td>\n",
       "      <td>68.0</td>\n",
       "      <td>6.0</td>\n",
       "      <td>1.0</td>\n",
       "      <td>0.0</td>\n",
       "      <td>6.461624</td>\n",
       "      <td>Democrat</td>\n",
       "      <td>(64, 100]</td>\n",
       "    </tr>\n",
       "  </tbody>\n",
       "</table>\n",
       "</div>\n",
       "      <button class=\"colab-df-convert\" onclick=\"convertToInteractive('df-dc63665a-b6da-4552-9371-072603b57d35')\"\n",
       "              title=\"Convert this dataframe to an interactive table.\"\n",
       "              style=\"display:none;\">\n",
       "        \n",
       "  <svg xmlns=\"http://www.w3.org/2000/svg\" height=\"24px\"viewBox=\"0 0 24 24\"\n",
       "       width=\"24px\">\n",
       "    <path d=\"M0 0h24v24H0V0z\" fill=\"none\"/>\n",
       "    <path d=\"M18.56 5.44l.94 2.06.94-2.06 2.06-.94-2.06-.94-.94-2.06-.94 2.06-2.06.94zm-11 1L8.5 8.5l.94-2.06 2.06-.94-2.06-.94L8.5 2.5l-.94 2.06-2.06.94zm10 10l.94 2.06.94-2.06 2.06-.94-2.06-.94-.94-2.06-.94 2.06-2.06.94z\"/><path d=\"M17.41 7.96l-1.37-1.37c-.4-.4-.92-.59-1.43-.59-.52 0-1.04.2-1.43.59L10.3 9.45l-7.72 7.72c-.78.78-.78 2.05 0 2.83L4 21.41c.39.39.9.59 1.41.59.51 0 1.02-.2 1.41-.59l7.78-7.78 2.81-2.81c.8-.78.8-2.07 0-2.86zM5.41 20L4 18.59l7.72-7.72 1.47 1.35L5.41 20z\"/>\n",
       "  </svg>\n",
       "      </button>\n",
       "      \n",
       "  <style>\n",
       "    .colab-df-container {\n",
       "      display:flex;\n",
       "      flex-wrap:wrap;\n",
       "      gap: 12px;\n",
       "    }\n",
       "\n",
       "    .colab-df-convert {\n",
       "      background-color: #E8F0FE;\n",
       "      border: none;\n",
       "      border-radius: 50%;\n",
       "      cursor: pointer;\n",
       "      display: none;\n",
       "      fill: #1967D2;\n",
       "      height: 32px;\n",
       "      padding: 0 0 0 0;\n",
       "      width: 32px;\n",
       "    }\n",
       "\n",
       "    .colab-df-convert:hover {\n",
       "      background-color: #E2EBFA;\n",
       "      box-shadow: 0px 1px 2px rgba(60, 64, 67, 0.3), 0px 1px 3px 1px rgba(60, 64, 67, 0.15);\n",
       "      fill: #174EA6;\n",
       "    }\n",
       "\n",
       "    [theme=dark] .colab-df-convert {\n",
       "      background-color: #3B4455;\n",
       "      fill: #D2E3FC;\n",
       "    }\n",
       "\n",
       "    [theme=dark] .colab-df-convert:hover {\n",
       "      background-color: #434B5C;\n",
       "      box-shadow: 0px 1px 3px 1px rgba(0, 0, 0, 0.15);\n",
       "      filter: drop-shadow(0px 1px 2px rgba(0, 0, 0, 0.3));\n",
       "      fill: #FFFFFF;\n",
       "    }\n",
       "  </style>\n",
       "\n",
       "      <script>\n",
       "        const buttonEl =\n",
       "          document.querySelector('#df-dc63665a-b6da-4552-9371-072603b57d35 button.colab-df-convert');\n",
       "        buttonEl.style.display =\n",
       "          google.colab.kernel.accessAllowed ? 'block' : 'none';\n",
       "\n",
       "        async function convertToInteractive(key) {\n",
       "          const element = document.querySelector('#df-dc63665a-b6da-4552-9371-072603b57d35');\n",
       "          const dataTable =\n",
       "            await google.colab.kernel.invokeFunction('convertToInteractive',\n",
       "                                                     [key], {});\n",
       "          if (!dataTable) return;\n",
       "\n",
       "          const docLinkHtml = 'Like what you see? Visit the ' +\n",
       "            '<a target=\"_blank\" href=https://colab.research.google.com/notebooks/data_table.ipynb>data table notebook</a>'\n",
       "            + ' to learn more about interactive tables.';\n",
       "          element.innerHTML = '';\n",
       "          dataTable['output_type'] = 'display_data';\n",
       "          await google.colab.output.renderOutput(dataTable, element);\n",
       "          const docLink = document.createElement('div');\n",
       "          docLink.innerHTML = docLinkHtml;\n",
       "          element.appendChild(docLink);\n",
       "        }\n",
       "      </script>\n",
       "    </div>\n",
       "  </div>\n",
       "  "
      ],
      "text/plain": [
       "   popul  TVnews  selfLR  ClinLR  DoleLR  PID   age  education  income  vote  \\\n",
       "0    0.0     7.0     7.0     1.0     6.0  6.0  36.0        3.0     1.0   1.0   \n",
       "1  190.0     1.0     3.0     3.0     5.0  1.0  20.0        4.0     1.0   0.0   \n",
       "2   31.0     7.0     2.0     2.0     6.0  1.0  24.0        6.0     1.0   0.0   \n",
       "3   83.0     4.0     3.0     4.0     5.0  1.0  28.0        6.0     1.0   0.0   \n",
       "4  640.0     7.0     5.0     6.0     4.0  0.0  68.0        6.0     1.0   0.0   \n",
       "\n",
       "   logpopul       party  age_group  \n",
       "0 -2.302585  Republican   (34, 44]  \n",
       "1  5.247550    Democrat    (0, 24]  \n",
       "2  3.437208    Democrat    (0, 24]  \n",
       "3  4.420045    Democrat   (24, 34]  \n",
       "4  6.461624    Democrat  (64, 100]  "
      ]
     },
     "execution_count": 20,
     "metadata": {},
     "output_type": "execute_result"
    }
   ],
   "source": [
    "df2['age_group'] = pd.cut(df.age, (0, 24, 34, 44, 54, 64, 100))\n",
    "df2.head()"
   ]
  },
  {
   "cell_type": "markdown",
   "metadata": {
    "id": "FaisnScALWND"
   },
   "source": [
    "## 3. Filtering Data Exercise\n",
    "\n",
    "Use the filtering method to find all the respondents who have the impression that Bill Clinton is moderate or conservative (`ClinLR` equals 4 or higher). How many respondents are in this subset?\n",
    "\n",
    "Among these respondents, how many have a household income less than $50,000 and attended at least some college?"
   ]
  },
  {
   "cell_type": "code",
   "execution_count": 23,
   "metadata": {
    "colab": {
     "base_uri": "https://localhost:8080/"
    },
    "id": "eX5t91r1BJ3k",
    "outputId": "e74eeaa9-f1ec-4f99-9dc4-f81d6e9f0dc8"
   },
   "outputs": [
    {
     "data": {
      "text/plain": [
       "35"
      ]
     },
     "execution_count": 23,
     "metadata": {},
     "output_type": "execute_result"
    }
   ],
   "source": [
    "extract = df2[(df2.ClinLR >=4) & (df2.education >= 5) & (df2.income >= 20)]\n",
    "len(extract)"
   ]
  },
  {
   "cell_type": "code",
   "execution_count": 24,
   "metadata": {
    "colab": {
     "base_uri": "https://localhost:8080/",
     "height": 206
    },
    "id": "mkTP4rcR0z36",
    "outputId": "261c8e71-6d4a-4774-f480-c5b172a6e658"
   },
   "outputs": [
    {
     "data": {
      "text/html": [
       "\n",
       "  <div id=\"df-96a9a45f-5a19-4ce3-8015-d63ded4e6286\">\n",
       "    <div class=\"colab-df-container\">\n",
       "      <div>\n",
       "<style scoped>\n",
       "    .dataframe tbody tr th:only-of-type {\n",
       "        vertical-align: middle;\n",
       "    }\n",
       "\n",
       "    .dataframe tbody tr th {\n",
       "        vertical-align: top;\n",
       "    }\n",
       "\n",
       "    .dataframe thead th {\n",
       "        text-align: right;\n",
       "    }\n",
       "</style>\n",
       "<table border=\"1\" class=\"dataframe\">\n",
       "  <thead>\n",
       "    <tr style=\"text-align: right;\">\n",
       "      <th></th>\n",
       "      <th>popul</th>\n",
       "      <th>TVnews</th>\n",
       "      <th>selfLR</th>\n",
       "      <th>ClinLR</th>\n",
       "      <th>DoleLR</th>\n",
       "      <th>PID</th>\n",
       "      <th>age</th>\n",
       "      <th>education</th>\n",
       "      <th>income</th>\n",
       "      <th>vote</th>\n",
       "      <th>logpopul</th>\n",
       "      <th>party</th>\n",
       "      <th>age_group</th>\n",
       "    </tr>\n",
       "  </thead>\n",
       "  <tbody>\n",
       "    <tr>\n",
       "      <th>586</th>\n",
       "      <td>0.0</td>\n",
       "      <td>7.0</td>\n",
       "      <td>6.0</td>\n",
       "      <td>4.0</td>\n",
       "      <td>6.0</td>\n",
       "      <td>4.0</td>\n",
       "      <td>47.0</td>\n",
       "      <td>7.0</td>\n",
       "      <td>20.0</td>\n",
       "      <td>1.0</td>\n",
       "      <td>-2.302585</td>\n",
       "      <td>Independant</td>\n",
       "      <td>(44, 54]</td>\n",
       "    </tr>\n",
       "    <tr>\n",
       "      <th>587</th>\n",
       "      <td>470.0</td>\n",
       "      <td>4.0</td>\n",
       "      <td>4.0</td>\n",
       "      <td>4.0</td>\n",
       "      <td>6.0</td>\n",
       "      <td>1.0</td>\n",
       "      <td>42.0</td>\n",
       "      <td>6.0</td>\n",
       "      <td>20.0</td>\n",
       "      <td>0.0</td>\n",
       "      <td>6.152945</td>\n",
       "      <td>Democrat</td>\n",
       "      <td>(34, 44]</td>\n",
       "    </tr>\n",
       "    <tr>\n",
       "      <th>602</th>\n",
       "      <td>640.0</td>\n",
       "      <td>5.0</td>\n",
       "      <td>4.0</td>\n",
       "      <td>5.0</td>\n",
       "      <td>7.0</td>\n",
       "      <td>1.0</td>\n",
       "      <td>50.0</td>\n",
       "      <td>5.0</td>\n",
       "      <td>20.0</td>\n",
       "      <td>0.0</td>\n",
       "      <td>6.461624</td>\n",
       "      <td>Democrat</td>\n",
       "      <td>(44, 54]</td>\n",
       "    </tr>\n",
       "    <tr>\n",
       "      <th>603</th>\n",
       "      <td>900.0</td>\n",
       "      <td>3.0</td>\n",
       "      <td>3.0</td>\n",
       "      <td>4.0</td>\n",
       "      <td>6.0</td>\n",
       "      <td>1.0</td>\n",
       "      <td>45.0</td>\n",
       "      <td>6.0</td>\n",
       "      <td>20.0</td>\n",
       "      <td>0.0</td>\n",
       "      <td>6.802506</td>\n",
       "      <td>Democrat</td>\n",
       "      <td>(44, 54]</td>\n",
       "    </tr>\n",
       "    <tr>\n",
       "      <th>625</th>\n",
       "      <td>290.0</td>\n",
       "      <td>4.0</td>\n",
       "      <td>4.0</td>\n",
       "      <td>5.0</td>\n",
       "      <td>3.0</td>\n",
       "      <td>5.0</td>\n",
       "      <td>30.0</td>\n",
       "      <td>6.0</td>\n",
       "      <td>20.0</td>\n",
       "      <td>0.0</td>\n",
       "      <td>5.670226</td>\n",
       "      <td>Republican</td>\n",
       "      <td>(24, 34]</td>\n",
       "    </tr>\n",
       "  </tbody>\n",
       "</table>\n",
       "</div>\n",
       "      <button class=\"colab-df-convert\" onclick=\"convertToInteractive('df-96a9a45f-5a19-4ce3-8015-d63ded4e6286')\"\n",
       "              title=\"Convert this dataframe to an interactive table.\"\n",
       "              style=\"display:none;\">\n",
       "        \n",
       "  <svg xmlns=\"http://www.w3.org/2000/svg\" height=\"24px\"viewBox=\"0 0 24 24\"\n",
       "       width=\"24px\">\n",
       "    <path d=\"M0 0h24v24H0V0z\" fill=\"none\"/>\n",
       "    <path d=\"M18.56 5.44l.94 2.06.94-2.06 2.06-.94-2.06-.94-.94-2.06-.94 2.06-2.06.94zm-11 1L8.5 8.5l.94-2.06 2.06-.94-2.06-.94L8.5 2.5l-.94 2.06-2.06.94zm10 10l.94 2.06.94-2.06 2.06-.94-2.06-.94-.94-2.06-.94 2.06-2.06.94z\"/><path d=\"M17.41 7.96l-1.37-1.37c-.4-.4-.92-.59-1.43-.59-.52 0-1.04.2-1.43.59L10.3 9.45l-7.72 7.72c-.78.78-.78 2.05 0 2.83L4 21.41c.39.39.9.59 1.41.59.51 0 1.02-.2 1.41-.59l7.78-7.78 2.81-2.81c.8-.78.8-2.07 0-2.86zM5.41 20L4 18.59l7.72-7.72 1.47 1.35L5.41 20z\"/>\n",
       "  </svg>\n",
       "      </button>\n",
       "      \n",
       "  <style>\n",
       "    .colab-df-container {\n",
       "      display:flex;\n",
       "      flex-wrap:wrap;\n",
       "      gap: 12px;\n",
       "    }\n",
       "\n",
       "    .colab-df-convert {\n",
       "      background-color: #E8F0FE;\n",
       "      border: none;\n",
       "      border-radius: 50%;\n",
       "      cursor: pointer;\n",
       "      display: none;\n",
       "      fill: #1967D2;\n",
       "      height: 32px;\n",
       "      padding: 0 0 0 0;\n",
       "      width: 32px;\n",
       "    }\n",
       "\n",
       "    .colab-df-convert:hover {\n",
       "      background-color: #E2EBFA;\n",
       "      box-shadow: 0px 1px 2px rgba(60, 64, 67, 0.3), 0px 1px 3px 1px rgba(60, 64, 67, 0.15);\n",
       "      fill: #174EA6;\n",
       "    }\n",
       "\n",
       "    [theme=dark] .colab-df-convert {\n",
       "      background-color: #3B4455;\n",
       "      fill: #D2E3FC;\n",
       "    }\n",
       "\n",
       "    [theme=dark] .colab-df-convert:hover {\n",
       "      background-color: #434B5C;\n",
       "      box-shadow: 0px 1px 3px 1px rgba(0, 0, 0, 0.15);\n",
       "      filter: drop-shadow(0px 1px 2px rgba(0, 0, 0, 0.3));\n",
       "      fill: #FFFFFF;\n",
       "    }\n",
       "  </style>\n",
       "\n",
       "      <script>\n",
       "        const buttonEl =\n",
       "          document.querySelector('#df-96a9a45f-5a19-4ce3-8015-d63ded4e6286 button.colab-df-convert');\n",
       "        buttonEl.style.display =\n",
       "          google.colab.kernel.accessAllowed ? 'block' : 'none';\n",
       "\n",
       "        async function convertToInteractive(key) {\n",
       "          const element = document.querySelector('#df-96a9a45f-5a19-4ce3-8015-d63ded4e6286');\n",
       "          const dataTable =\n",
       "            await google.colab.kernel.invokeFunction('convertToInteractive',\n",
       "                                                     [key], {});\n",
       "          if (!dataTable) return;\n",
       "\n",
       "          const docLinkHtml = 'Like what you see? Visit the ' +\n",
       "            '<a target=\"_blank\" href=https://colab.research.google.com/notebooks/data_table.ipynb>data table notebook</a>'\n",
       "            + ' to learn more about interactive tables.';\n",
       "          element.innerHTML = '';\n",
       "          dataTable['output_type'] = 'display_data';\n",
       "          await google.colab.output.renderOutput(dataTable, element);\n",
       "          const docLink = document.createElement('div');\n",
       "          docLink.innerHTML = docLinkHtml;\n",
       "          element.appendChild(docLink);\n",
       "        }\n",
       "      </script>\n",
       "    </div>\n",
       "  </div>\n",
       "  "
      ],
      "text/plain": [
       "     popul  TVnews  selfLR  ClinLR  DoleLR  PID   age  education  income  \\\n",
       "586    0.0     7.0     6.0     4.0     6.0  4.0  47.0        7.0    20.0   \n",
       "587  470.0     4.0     4.0     4.0     6.0  1.0  42.0        6.0    20.0   \n",
       "602  640.0     5.0     4.0     5.0     7.0  1.0  50.0        5.0    20.0   \n",
       "603  900.0     3.0     3.0     4.0     6.0  1.0  45.0        6.0    20.0   \n",
       "625  290.0     4.0     4.0     5.0     3.0  5.0  30.0        6.0    20.0   \n",
       "\n",
       "     vote  logpopul        party age_group  \n",
       "586   1.0 -2.302585  Independant  (44, 54]  \n",
       "587   0.0  6.152945     Democrat  (34, 44]  \n",
       "602   0.0  6.461624     Democrat  (44, 54]  \n",
       "603   0.0  6.802506     Democrat  (44, 54]  \n",
       "625   0.0  5.670226   Republican  (24, 34]  "
      ]
     },
     "execution_count": 24,
     "metadata": {},
     "output_type": "execute_result"
    }
   ],
   "source": [
    "extract.head()"
   ]
  },
  {
   "cell_type": "markdown",
   "metadata": {
    "id": "g5GzVjqdLe82"
   },
   "source": [
    "## 4. Calculating From Data Exercise\n",
    "\n",
    "For each of the below match-ups, choose the group that is more likely to vote for Bill Clinton. You can calculate this using the percentage of each group that intends to vote for Clinton (`vote`). Which match-up was the closest? Which had the biggest difference?\n",
    "\n",
    "Another way to think about this: Given that a respondent is a Democrat, there is a ____ percent chance they will vote for Clinton. How does this value change if the respondent is a Republican?\n",
    "\n",
    "*   Democrats or Republicans\n",
    "*   People younger than 44 or People 44 and older\n",
    "*   People who watch TV news at least 6 days a week or People who watch TV news less than 3 days a week\n",
    "*   People who live somewhere with a population greater than the average respondent or People who live in a place with a population equal to or less than the average respondent\n"
   ]
  },
  {
   "cell_type": "code",
   "execution_count": 31,
   "metadata": {
    "colab": {
     "base_uri": "https://localhost:8080/"
    },
    "id": "68hj5Vs6Lhz5",
    "outputId": "d87f8435-9387-4876-eadc-0c8ff6160fe0"
   },
   "outputs": [
    {
     "name": "stdout",
     "output_type": "stream",
     "text": [
      "in the Democrats group, 96.32 % intend to vote Clinton\n",
      "in the Republicans group, 10.46 % intend to vote Clinton\n",
      "in the Younger than 44 group, 59.48 % intend to vote Clinton\n",
      "in the 44 and older group, 57.29 % intend to vote Clinton\n",
      "in the ALL group, 58.37 % intend to vote Clinton\n"
     ]
    }
   ],
   "source": [
    "def calculate(message, df):\n",
    "  clinton = df[df.vote == 0]\n",
    "  print(f\"in the {message} group, {len(clinton) / len(df) * 100:.2f} % intend to vote Clinton\")\n",
    "\n",
    "calculate(\"ALL\", df2)\n",
    "calculate(\"Democrats\",\n",
    "          df2[df2.party == 'Democrat'])\n",
    "calculate(\"Republicans\",\n",
    "          df2[df2.party == 'Republican'])\n",
    "calculate(\"Younger than 44\",\n",
    "          df2[df2.age < 44])\n",
    "calculate(\"44 and older\",\n",
    "          df2[df2.age >= 44])\n"
   ]
  },
  {
   "cell_type": "markdown",
   "metadata": {
    "id": "Q68i6UUQLZrT"
   },
   "source": [
    "## 5. Grouping Data Exercise\n",
    "\n",
    "Use the `groupby()` method to bucket respondents by `age_group`. Which age group is the most conservative? Which watches TV news the least?\n",
    "\n",
    "Next, calculate 5 percentile groups based on income. Group the dataset by these percentiles. Which income bracket is the most liberal? Which is the most conservative? The oldest? Highest educated?"
   ]
  },
  {
   "cell_type": "code",
   "execution_count": 33,
   "metadata": {
    "colab": {
     "base_uri": "https://localhost:8080/"
    },
    "id": "eNrBrx6-LcBn",
    "outputId": "bc282df1-335e-4e36-84a4-3a6c44d98315"
   },
   "outputs": [
    {
     "data": {
      "text/plain": [
       "age_group\n",
       "(0, 24]      4.000000\n",
       "(24, 34]     4.217391\n",
       "(34, 44]     4.257143\n",
       "(44, 54]     4.285714\n",
       "(54, 64]     4.532258\n",
       "(64, 100]    4.529412\n",
       "Name: selfLR, dtype: float64"
      ]
     },
     "execution_count": 33,
     "metadata": {},
     "output_type": "execute_result"
    }
   ],
   "source": [
    "df2.groupby('age_group')['selfLR'].mean()"
   ]
  },
  {
   "cell_type": "code",
   "execution_count": 36,
   "metadata": {
    "colab": {
     "base_uri": "https://localhost:8080/"
    },
    "id": "k9J_phX13blm",
    "outputId": "15c28470-4aed-4565-95ab-926e2885cef7"
   },
   "outputs": [
    {
     "data": {
      "text/plain": [
       "age_group\n",
       "(0, 24]      2.358491\n",
       "(24, 34]     2.570652\n",
       "(34, 44]     3.118367\n",
       "(44, 54]     3.916667\n",
       "(54, 64]     4.516129\n",
       "(64, 100]    5.523529\n",
       "Name: TVnews, dtype: float64"
      ]
     },
     "execution_count": 36,
     "metadata": {},
     "output_type": "execute_result"
    }
   ],
   "source": [
    "df2.groupby('age_group')['TVnews'].mean()"
   ]
  },
  {
   "cell_type": "code",
   "execution_count": 39,
   "metadata": {
    "colab": {
     "base_uri": "https://localhost:8080/"
    },
    "id": "Hvt1Eohe31LG",
    "outputId": "768ac168-41c0-42e5-fa12-cdfa9242a352"
   },
   "outputs": [
    {
     "data": {
      "text/plain": [
       "income-group\n",
       "(0.999, 12.0]    4.282297\n",
       "(12.0, 16.0]     4.295567\n",
       "(16.0, 19.0]     4.099379\n",
       "(19.0, 21.0]     4.497537\n",
       "(21.0, 24.0]     4.422619\n",
       "Name: selfLR, dtype: float64"
      ]
     },
     "execution_count": 39,
     "metadata": {},
     "output_type": "execute_result"
    }
   ],
   "source": [
    "df2['income-group'] = pd.qcut(df2.income, 5)\n",
    "df2.groupby('income-group')['selfLR'].mean()"
   ]
  },
  {
   "cell_type": "markdown",
   "metadata": {
    "id": "_ySpfyk-LSUS"
   },
   "source": [
    "## 6. Voting Across the Aisle\n",
    "\n",
    "We are interested in learning more about respondents who's political views differ strongly from the candidate they expect to vote for. Using `selfLR`, `vote`, `ClinLR`, and `DoleLR`, work through the following questions. Your interpretation may differ from the answer key.\n",
    "\n",
    "*   What is the largest recorded difference between a respondent's political leaning and their impression of their intended candidate's political leaning?\n",
    "*   How many respondents exhibit a difference of that magnitude?\n",
    "*   Make a separate DataFrame called `sway` that only includes voters who exhibit a difference greater than |3|.\n",
    "*   Among those in `sway`, are respondents more likely to be voting for a candidate more conservative or more liberal than their own political leaning?\n",
    "*   In `sway`, which candidate is the more popular choice?\n",
    "\n"
   ]
  },
  {
   "cell_type": "code",
   "execution_count": null,
   "metadata": {
    "id": "pIFQCKBcLX9z"
   },
   "outputs": [],
   "source": [
    "# Your code here"
   ]
  },
  {
   "cell_type": "markdown",
   "metadata": {
    "id": "HRJKA3UDLr-z"
   },
   "source": [
    "# BSD 3-Clause License\n",
    "\n",
    "*Copyright (c) 2022, UC Berkeley School of Information*\n",
    "\n",
    "*All rights reserved.*\n",
    "\n",
    "*Redistribution and use in source and binary forms, with or without modification, are permitted provided that the following conditions are met:*\n",
    "\n",
    "*1. Redistributions of source code must retain the above copyright notice, this list of conditions and the following disclaimer.*\n",
    "\n",
    "*2. Redistributions in binary form must reproduce the above copyright notice, this list of conditions and the following disclaimer in the documentation and/or other materials provided with the distribution.*\n",
    "\n",
    "*3. Neither the name of the copyright holder nor the names of its contributors may be used to endorse or promote products derived from this software without specific prior written permission.*\n",
    "\n",
    "*THIS SOFTWARE IS PROVIDED BY THE COPYRIGHT HOLDERS AND CONTRIBUTORS \"AS IS\" AND ANY EXPRESS OR IMPLIED WARRANTIES, INCLUDING, BUT NOT LIMITED TO, THE IMPLIED WARRANTIES OF MERCHANTABILITY AND FITNESS FOR A PARTICULAR PURPOSE ARE DISCLAIMED. IN NO EVENT SHALL THE COPYRIGHT HOLDER OR CONTRIBUTORS BE LIABLE FOR ANY DIRECT, INDIRECT, INCIDENTAL, SPECIAL, EXEMPLARY, OR CONSEQUENTIAL DAMAGES (INCLUDING, BUT NOT LIMITED TO, PROCUREMENT OF SUBSTITUTE GOODS OR SERVICES; LOSS OF USE, DATA, OR PROFITS; OR BUSINESS INTERRUPTION) HOWEVER CAUSED AND ON ANY THEORY OF LIABILITY, WHETHER IN CONTRACT, STRICT LIABILITY, OR TORT (INCLUDING NEGLIGENCE OR OTHERWISE) ARISING IN ANY WAY OUT OF THE USE OF THIS SOFTWARE, EVEN IF ADVISED OF THE POSSIBILITY OF SUCH DAMAGE.*"
   ]
  }
 ],
 "metadata": {
  "colab": {
   "provenance": []
  },
  "kernelspec": {
   "display_name": "Python 3 (ipykernel)",
   "language": "python",
   "name": "python3"
  },
  "language_info": {
   "codemirror_mode": {
    "name": "ipython",
    "version": 3
   },
   "file_extension": ".py",
   "mimetype": "text/x-python",
   "name": "python",
   "nbconvert_exporter": "python",
   "pygments_lexer": "ipython3",
   "version": "3.11.4"
  }
 },
 "nbformat": 4,
 "nbformat_minor": 4
}
